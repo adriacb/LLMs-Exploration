{
 "cells": [
  {
   "cell_type": "markdown",
   "metadata": {},
   "source": [
    "# How to load Open-Sourced LLMs\n",
    "\n",
    "If you're in search of an open-source alternative to ChatGPT that can be operated on your local machine, large language models (LLMs) hosted within a Jupyter Notebook offer a potent and adaptable solution.\n",
    "\n",
    "In this blog notebook, I will guide you through the installation, configuration, and utilization of open-source LLMs.\n"
   ]
  },
  {
   "cell_type": "markdown",
   "metadata": {},
   "source": [
    "## Hugging Face: Your Gateway to LLMs\n",
    "\n",
    "[Hugging Face](https://huggingface.co/) is a pivotal platform for working with large language models. It provides a wide range of pre-trained models and tools for various Natural Language Processing (NLP) tasks. Here, we are particularly interested in text generation and question answering. You can easily access these models via the Hugging Face model hub.\n",
    "\n",
    "**Getting Models from Hugging Face**\n",
    "\n",
    "To access LLMs for text generation and question answering, visit the Hugging Face model hub. You can find an extensive collection of models for different NLP tasks, including those suited for text generation and question answering.\n",
    "\n",
    "[Hugging Face Model Hub](https://huggingface.co/models)\n",
    "\n",
    "## Leaderboards and Model Licensing\n",
    "\n",
    "Hugging Face has a model leaderboard where you can explore various models for benchmarking and comparisons. Additionally, the [LLSys Leaderboard](https://llsys.ai/leaderboard) is a valuable resource for assessing the performance of large language models.\n",
    "\n",
    "When using models from Hugging Face, it's crucial to review their licenses to ensure compliance with your intended use.\n",
    "\n",
    "\n",
    "## Model Cards\n",
    "\n",
    "Hugging Face provides model cards for each model in their repository. These model cards offer detailed information about the models, including their capabilities, input formats, and performance characteristics.\n",
    "\n",
    "\n",
    "## Types of (quantized) models\n",
    "\n",
    "Large Language Models come in various flavors, each suited for different purposes. Here are some common types:\n",
    "\n",
    "- **GGUF (...):** The library is written in C/C++ for efficient inference of Llama models. It can load GGML models and run them on a **`CPU`**. You can work with GGUF models using libraries like `llama-cpp`, `ctransformers`, and the `huggingface-hub` library.\n",
    "\n",
    "- **GPTQ (...):** This quantization load and run the models using **`GPU`**. To work with GPTQ models, you'll need libraries such as `auto-gptq`, `transformers`, and `optium`.\n",
    "\n",
    "- **AWQ (...):** For AWQ models, you can explore the `autoawq` library.\n",
    "\n",
    "- **Foundational Models (Base Models):** These are the core models on which other LLMs are built. They are the foundation for various NLP tasks.\n",
    "\n",
    "This Jupyter Notebook will provide you with step-by-step instructions on how to load and utilize these different types of LLMs for your specific NLP tasks. Let's get started!"
   ]
  }
 ],
 "metadata": {
  "kernelspec": {
   "display_name": "LLMs",
   "language": "python",
   "name": "python3"
  },
  "language_info": {
   "codemirror_mode": {
    "name": "ipython",
    "version": 3
   },
   "file_extension": ".py",
   "mimetype": "text/x-python",
   "name": "python",
   "nbconvert_exporter": "python",
   "pygments_lexer": "ipython3",
   "version": "3.10.13"
  }
 },
 "nbformat": 4,
 "nbformat_minor": 2
}
